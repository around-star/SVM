{
 "cells": [
  {
   "cell_type": "code",
   "execution_count": 1,
   "metadata": {},
   "outputs": [],
   "source": [
    "import numpy as np\n",
    "import matplotlib.pyplot as plt"
   ]
  },
  {
   "cell_type": "code",
   "execution_count": 2,
   "metadata": {},
   "outputs": [],
   "source": [
    "class svm:\n",
    "    \n",
    "    def __init__(self):\n",
    "        self.w=[]\n",
    "        self.b=0\n",
    "        \n",
    "    def grad(self,x_input,y_true,w_final,b_final,lgrange_parameter,learn_rate):\n",
    "        iteration=50000\n",
    "        w_final=np.array(w_final)\n",
    "        \n",
    "        for i in range(1,iteration):\n",
    "                                \n",
    "            for j in range(len(y_true)):\n",
    "                if ((y_true[j]*(np.dot(w_final,x_input[j])+b_final)) < 1):\n",
    "                    w_final-=learn_rate*(w_final+lgrange_parameter*((-1*y_true[j])*x_input[j]))/iteration\n",
    "                    b_final-=learn_rate*(lgrange_parameter*(-y_true[j]))/iteration\n",
    "                else:    \n",
    "                    w_final-=(learn_rate*w_final)/iteration\n",
    "                \n",
    "        return w_final,b_final\n",
    "            \n",
    "    def fit(self,x_input,y_true,w_initial,b_initial,lgrange_parameter,learn_rate):\n",
    "        attri_len=x_input.shape[1]\n",
    "        for i in range(attri_len):\n",
    "            self.w.append(w_initial)\n",
    "        self.b=b_initial\n",
    "        \n",
    "        self.w,self.b=self.grad(x_input,y_true,self.w,self.b,lgrange_parameter,learn_rate)\n",
    "        \n",
    "        \n",
    "    def predict(self,x_test):\n",
    "        \n",
    "        for data in x_test:\n",
    "            if (np.dot(self.w,data)+self.b)>0:\n",
    "                print(\"Class 1\")\n",
    "            else:\n",
    "                print(\"Class -1\")\n"
   ]
  },
  {
   "cell_type": "code",
   "execution_count": 3,
   "metadata": {},
   "outputs": [],
   "source": [
    "x_train=np.array([[1,1],[10,6],[9,8],[3,4],[6,7],[7,6],[4,4],[2,1],[6,10],[4,3],[6,8],[8,8],[4,1],[1,4],[8,9],[2,2],[4,0],[10,9],[6,6],[3,3]])\n",
    "y_train=[-1,1,1,-1,1,1,-1,-1,1,-1,1,1,-1,-1,1,-1,-1,1,1,-1]                \n",
    "\n",
    "x_test=np.array([[6,6],[3,2],[9,6],[2,3]])\n"
   ]
  },
  {
   "cell_type": "code",
   "execution_count": 4,
   "metadata": {},
   "outputs": [
    {
     "name": "stdout",
     "output_type": "stream",
     "text": [
      "Class 1\n"
     ]
    }
   ],
   "source": [
    "model=svm()\n",
    "model.fit(x_train,y_train,w_initial=0.1,b_initial=1,lgrange_parameter=100.5,learn_rate=0.05)\n",
    "model.predict(x_test)"
   ]
  },
  {
   "cell_type": "code",
   "execution_count": 5,
   "metadata": {},
   "outputs": [
    {
     "data": {
      "text/plain": [
       "[<matplotlib.lines.Line2D at 0x1b48663518>]"
      ]
     },
     "execution_count": 5,
     "metadata": {},
     "output_type": "execute_result"
    },
    {
     "data": {
      "image/png": "[encoded data removed]",
      "text/plain": [
       "<Figure size 432x288 with 1 Axes>"
      ]
     },
     "metadata": {
      "needs_background": "light"
     },
     "output_type": "display_data"
    }
   ],
   "source": [
    "plt.scatter(x_train[:,0],x_train[:,1])\n",
    "plt.plot(x_train[:,0],(model.w[0]*x_train[:,0]+model.b)/-model.w[1])"
   ]
  },
  {
   "cell_type": "code",
   "execution_count": null,
   "metadata": {},
   "outputs": [],
   "source": []
  }
 ],
 "metadata": {
  "kernelspec": {
   "display_name": "Python 3",
   "language": "python",
   "name": "python3"
  },
  "language_info": {
   "codemirror_mode": {
    "name": "ipython",
    "version": 3
   },
   "file_extension": ".py",
   "mimetype": "text/x-python",
   "name": "python",
   "nbconvert_exporter": "python",
   "pygments_lexer": "ipython3",
   "version": "3.7.3"
  }
 },
 "nbformat": 4,
 "nbformat_minor": 2
}
